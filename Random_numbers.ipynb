{
 "cells": [
  {
   "cell_type": "markdown",
   "id": "5c89cc61",
   "metadata": {},
   "source": [
    "## Assignment on generating Random numbers"
   ]
  },
  {
   "cell_type": "code",
   "execution_count": 3,
   "id": "5c75a1e3",
   "metadata": {},
   "outputs": [
    {
     "data": {
      "text/plain": [
       "[0, 1, 2, 3, 4, 5, 6, 7, 8, 9]"
      ]
     },
     "execution_count": 3,
     "metadata": {},
     "output_type": "execute_result"
    }
   ],
   "source": [
    "import random\n",
    "numlst = list(range(10))\n",
    "numlst"
   ]
  },
  {
   "cell_type": "code",
   "execution_count": 82,
   "id": "b53c7b0c",
   "metadata": {},
   "outputs": [],
   "source": [
    "def bsd_rand(seed):\n",
    "    def rand():\n",
    "        rand. seed = (1103515245*rand. seed + 12345) & 0x7fffffff\n",
    "        return rand. seed\n",
    "    rand. seed = seed\n",
    "    return rand"
   ]
  },
  {
   "cell_type": "code",
   "execution_count": 83,
   "id": "b769e686",
   "metadata": {},
   "outputs": [],
   "source": [
    "#Genrating random numbers\n",
    "\n",
    "class NotSoRandom(object):\n",
    "    def seed(self, a=3):\n",
    "        \"\"\"Seed the world's most mysterious random number generator.\"\"\"\n",
    "        self.seedval = a\n",
    "    def random(self):\n",
    "        \"\"\"Look, random numbers!\"\"\"\n",
    "        self.seedval = (self.seedval * 3) % 19\n",
    "        return self.seedval\n",
    "\n",
    "_inst = NotSoRandom()\n",
    "seed = _inst.seed\n",
    "random = _inst.random"
   ]
  },
  {
   "cell_type": "code",
   "execution_count": 84,
   "id": "221c7c21",
   "metadata": {},
   "outputs": [],
   "source": [
    "seed(1234)"
   ]
  },
  {
   "cell_type": "code",
   "execution_count": 86,
   "id": "994dd436",
   "metadata": {},
   "outputs": [
    {
     "data": {
      "text/plain": [
       "10"
      ]
     },
     "execution_count": 86,
     "metadata": {},
     "output_type": "execute_result"
    }
   ],
   "source": [
    "a=random()\n",
    "a"
   ]
  },
  {
   "cell_type": "code",
   "execution_count": 77,
   "id": "9188cd86",
   "metadata": {},
   "outputs": [
    {
     "name": "stdout",
     "output_type": "stream",
     "text": [
      "11"
     ]
    }
   ],
   "source": [
    "for i in a:\n",
    "    print(i, end=\"\")"
   ]
  },
  {
   "cell_type": "code",
   "execution_count": 87,
   "id": "797595bc",
   "metadata": {},
   "outputs": [],
   "source": [
    "seed(255)"
   ]
  },
  {
   "cell_type": "code",
   "execution_count": 88,
   "id": "c3ab0dcb",
   "metadata": {},
   "outputs": [
    {
     "data": {
      "text/plain": [
       "5"
      ]
     },
     "execution_count": 88,
     "metadata": {},
     "output_type": "execute_result"
    }
   ],
   "source": [
    "#b=[random() for i in range(1)]\n",
    "b=random()\n",
    "b"
   ]
  },
  {
   "cell_type": "code",
   "execution_count": 80,
   "id": "b5378530",
   "metadata": {},
   "outputs": [
    {
     "name": "stdout",
     "output_type": "stream",
     "text": [
      "5"
     ]
    }
   ],
   "source": [
    "for j in b:\n",
    "    print(j, end=\"\")"
   ]
  },
  {
   "cell_type": "code",
   "execution_count": 89,
   "id": "96cf20df",
   "metadata": {},
   "outputs": [
    {
     "data": {
      "text/plain": [
       "array([7, 5, 4, 4, 5, 3, 6, 5, 5, 4])"
      ]
     },
     "execution_count": 89,
     "metadata": {},
     "output_type": "execute_result"
    }
   ],
   "source": [
    "#binomial Distribution\n",
    "\n",
    "import numpy as np\n",
    "# initialize the seed to 25\n",
    "np.random.seed(25)  # 10 number of trials with probability of 0.5 each\n",
    "np.random.binomial(n=10, p=0.5, size=10)"
   ]
  },
  {
   "cell_type": "code",
   "execution_count": 90,
   "id": "85fe2724",
   "metadata": {},
   "outputs": [
    {
     "data": {
      "text/plain": [
       "array([[4.08235236, 1.74587315, 0.65378557],\n",
       "       [0.41137173, 1.05899821, 0.24971095]])"
      ]
     },
     "execution_count": 90,
     "metadata": {},
     "output_type": "execute_result"
    }
   ],
   "source": [
    "# initialize the seed to 25\n",
    "np.random.seed(25)  # degree of freedom 2 and size (2, 3)\n",
    "np.random.chisquare(df=2, size=(2, 3))"
   ]
  },
  {
   "cell_type": "code",
   "execution_count": 91,
   "id": "fdc2a024",
   "metadata": {},
   "outputs": [
    {
     "data": {
      "text/plain": [
       "array([3, 1, 3, 1, 2, 2, 3, 3, 0, 2])"
      ]
     },
     "execution_count": 91,
     "metadata": {},
     "output_type": "execute_result"
    }
   ],
   "source": [
    "#initialize the seed to 25\n",
    "np.random.seed(25)\n",
    "#Poisson Distribution\n",
    "#rate 2 and size 10\n",
    "\n",
    "np.random.poisson(lam=2, size=10)"
   ]
  },
  {
   "cell_type": "code",
   "execution_count": 94,
   "id": "1c991c86",
   "metadata": {},
   "outputs": [
    {
     "name": "stdout",
     "output_type": "stream",
     "text": [
      "0.0\n"
     ]
    }
   ],
   "source": [
    "#calculating pi values\n",
    "\n",
    "from random import *  \n",
    "from math import sqrt  \n",
    "inside=0  \n",
    "n=1000  \n",
    "for i in range(0,n):  \n",
    "    #x=random()  \n",
    "    #y=random()  \n",
    "    if sqrt(a*a+b*b)<=1:  \n",
    "        inside+=1  \n",
    "pi=4*inside/n  \n",
    "print(pi)"
   ]
  },
  {
   "cell_type": "code",
   "execution_count": 93,
   "id": "cc348b91",
   "metadata": {},
   "outputs": [
    {
     "name": "stdout",
     "output_type": "stream",
     "text": [
      "pi 3.112\n",
      "x= 0.6155055691901605\n",
      "y= 0.6477850131342445\n"
     ]
    }
   ],
   "source": [
    "# calculating pi values\n",
    "\n",
    "from random import *  \n",
    "from math import sqrt  \n",
    "inside=0  \n",
    "n=1000  \n",
    "for i in range(0,n):  \n",
    "    x=random()  \n",
    "    y=random()  \n",
    "    if sqrt(x*x+y*y)<=1:  \n",
    "        inside+=1  \n",
    "pi=4*inside/n  \n",
    "print(\"pi\",pi)\n",
    "print(\"x=\",x)\n",
    "print(\"y=\",y)"
   ]
  },
  {
   "cell_type": "code",
   "execution_count": null,
   "id": "3366193c",
   "metadata": {},
   "outputs": [],
   "source": []
  }
 ],
 "metadata": {
  "kernelspec": {
   "display_name": "Python 3 (ipykernel)",
   "language": "python",
   "name": "python3"
  },
  "language_info": {
   "codemirror_mode": {
    "name": "ipython",
    "version": 3
   },
   "file_extension": ".py",
   "mimetype": "text/x-python",
   "name": "python",
   "nbconvert_exporter": "python",
   "pygments_lexer": "ipython3",
   "version": "3.8.12"
  }
 },
 "nbformat": 4,
 "nbformat_minor": 5
}
